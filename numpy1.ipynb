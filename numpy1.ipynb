{
 "cells": [
  {
   "cell_type": "code",
   "execution_count": 657,
   "metadata": {},
   "outputs": [],
   "source": [
    "import numpy as np"
   ]
  },
  {
   "cell_type": "code",
   "execution_count": 658,
   "metadata": {},
   "outputs": [
    {
     "name": "stdout",
     "output_type": "stream",
     "text": [
      "uint32 type operation:\t [[4294967290 4294967290]\n",
      " [4294967291 4294967291]] \n",
      "int32 type operation:\t [[-6 -6]\n",
      " [-5 -5]]\n"
     ]
    }
   ],
   "source": [
    "a=np.array([[1,2],[4,5]],dtype=np.int32)\n",
    "b=np.array([[7,8],[9,10]],dtype=np.int32)\n",
    "print('uint32 type operation:\\t',a.astype(np.uint32)-b.astype(np.uint32),'\\nint32 type operation:\\t',a-b)"
   ]
  },
  {
   "cell_type": "code",
   "execution_count": 659,
   "metadata": {},
   "outputs": [
    {
     "data": {
      "text/plain": [
       "array([2. , 3.2, 4.4, 5.6, 6.8, 8. , 9.2])"
      ]
     },
     "execution_count": 659,
     "metadata": {},
     "output_type": "execute_result"
    }
   ],
   "source": [
    "np.arange(2,10,1.2,dtype=float)"
   ]
  },
  {
   "cell_type": "code",
   "execution_count": 660,
   "metadata": {},
   "outputs": [
    {
     "data": {
      "text/plain": [
       "array([ 2.        ,  3.33333333,  4.66666667,  6.        ,  7.33333333,\n",
       "        8.66666667, 10.        ])"
      ]
     },
     "execution_count": 660,
     "metadata": {},
     "output_type": "execute_result"
    }
   ],
   "source": [
    "np.linspace(2,10,7,dtype=float)"
   ]
  },
  {
   "cell_type": "code",
   "execution_count": 661,
   "metadata": {},
   "outputs": [
    {
     "data": {
      "text/plain": [
       "array([[0, 0, 1, 0, 0, 0],\n",
       "       [0, 0, 0, 1, 0, 0],\n",
       "       [0, 0, 0, 0, 1, 0],\n",
       "       [0, 0, 0, 0, 0, 1],\n",
       "       [0, 0, 0, 0, 0, 0],\n",
       "       [0, 0, 0, 0, 0, 0]])"
      ]
     },
     "execution_count": 661,
     "metadata": {},
     "output_type": "execute_result"
    }
   ],
   "source": [
    "np.eye(6,6,2,dtype=int)"
   ]
  },
  {
   "cell_type": "code",
   "execution_count": 662,
   "metadata": {},
   "outputs": [
    {
     "data": {
      "text/plain": [
       "array([[11,  0,  0,  0],\n",
       "       [ 0, 21,  0,  0],\n",
       "       [ 0,  0, 31,  0],\n",
       "       [ 0,  0,  0, 41]])"
      ]
     },
     "execution_count": 662,
     "metadata": {},
     "output_type": "execute_result"
    }
   ],
   "source": [
    "d=np.diag([11,21,31,41])\n",
    "d"
   ]
  },
  {
   "cell_type": "code",
   "execution_count": 663,
   "metadata": {},
   "outputs": [
    {
     "data": {
      "text/plain": [
       "array([11, 21, 31, 41])"
      ]
     },
     "execution_count": 663,
     "metadata": {},
     "output_type": "execute_result"
    }
   ],
   "source": [
    "np.diag(d)"
   ]
  },
  {
   "cell_type": "code",
   "execution_count": 664,
   "metadata": {},
   "outputs": [
    {
     "data": {
      "text/plain": [
       "array([2, 4, 6, 8])"
      ]
     },
     "execution_count": 664,
     "metadata": {},
     "output_type": "execute_result"
    }
   ],
   "source": [
    "v=np.arange(2,10,2,dtype=int) \n",
    "v"
   ]
  },
  {
   "cell_type": "code",
   "execution_count": 665,
   "metadata": {},
   "outputs": [
    {
     "data": {
      "text/plain": [
       "array([[  8,   4,   2,   1],\n",
       "       [ 64,  16,   4,   1],\n",
       "       [216,  36,   6,   1],\n",
       "       [512,  64,   8,   1]])"
      ]
     },
     "execution_count": 665,
     "metadata": {},
     "output_type": "execute_result"
    }
   ],
   "source": [
    "van=np.vander(v,4)\n",
    "van"
   ]
  },
  {
   "cell_type": "code",
   "execution_count": 666,
   "metadata": {},
   "outputs": [
    {
     "data": {
      "text/plain": [
       "array([[[0, 0, 0],\n",
       "        [0, 0, 0],\n",
       "        [0, 0, 0],\n",
       "        [0, 0, 0]],\n",
       "\n",
       "       [[0, 0, 0],\n",
       "        [0, 0, 0],\n",
       "        [0, 0, 0],\n",
       "        [0, 0, 0]]])"
      ]
     },
     "execution_count": 666,
     "metadata": {},
     "output_type": "execute_result"
    }
   ],
   "source": [
    "np.zeros((2,4,3),dtype=int)"
   ]
  },
  {
   "cell_type": "code",
   "execution_count": 667,
   "metadata": {},
   "outputs": [
    {
     "data": {
      "text/plain": [
       "array([[[1, 1, 1],\n",
       "        [1, 1, 1],\n",
       "        [1, 1, 1],\n",
       "        [1, 1, 1]],\n",
       "\n",
       "       [[1, 1, 1],\n",
       "        [1, 1, 1],\n",
       "        [1, 1, 1],\n",
       "        [1, 1, 1]]])"
      ]
     },
     "execution_count": 667,
     "metadata": {},
     "output_type": "execute_result"
    }
   ],
   "source": [
    "np.ones((2,4,3),dtype=int)"
   ]
  },
  {
   "cell_type": "code",
   "execution_count": 668,
   "metadata": {},
   "outputs": [
    {
     "data": {
      "text/plain": [
       "array([[[0.80500292, 0.80794079, 0.51532556],\n",
       "        [0.28580138, 0.0539307 , 0.38336888],\n",
       "        [0.40847321, 0.04527519, 0.04875771],\n",
       "        [0.99917612, 0.65236911, 0.2345102 ]],\n",
       "\n",
       "       [[0.43494755, 0.97418619, 0.89767761],\n",
       "        [0.84423104, 0.39240466, 0.49302302],\n",
       "        [0.67668935, 0.06080271, 0.55559612],\n",
       "        [0.2714516 , 0.87965117, 0.06421444]]])"
      ]
     },
     "execution_count": 668,
     "metadata": {},
     "output_type": "execute_result"
    }
   ],
   "source": [
    "from numpy.random import default_rng\n",
    "default_rng(5).random((2,4,3))\n",
    "#default_rng(5), where 5 is the seed value \n",
    "#Seed value is used to generate the same random set everytime, when same seed value is provided."
   ]
  },
  {
   "cell_type": "code",
   "execution_count": 669,
   "metadata": {},
   "outputs": [
    {
     "data": {
      "text/plain": [
       "array([[[0, 0, 0, 0],\n",
       "        [1, 1, 1, 1],\n",
       "        [2, 2, 2, 2]],\n",
       "\n",
       "       [[0, 1, 2, 3],\n",
       "        [0, 1, 2, 3],\n",
       "        [0, 1, 2, 3]]])"
      ]
     },
     "execution_count": 669,
     "metadata": {},
     "output_type": "execute_result"
    }
   ],
   "source": [
    "np.indices((3,4))"
   ]
  },
  {
   "cell_type": "code",
   "execution_count": 670,
   "metadata": {},
   "outputs": [
    {
     "name": "stdout",
     "output_type": "stream",
     "text": [
      "v =\t [2 4 6 8] \n",
      "b =\t [ 4  8 12]\n"
     ]
    }
   ],
   "source": [
    "b = v[:3].copy()\n",
    "b *= 2\n",
    "print('v =\\t', v, '\\nb =\\t', b)"
   ]
  },
  {
   "cell_type": "code",
   "execution_count": 671,
   "metadata": {},
   "outputs": [
    {
     "name": "stdout",
     "output_type": "stream",
     "text": [
      "v =\t [ 4  8 12  8] \n",
      "b =\t [ 4  8 12]\n"
     ]
    }
   ],
   "source": [
    "b = v[:3]\n",
    "b *= 2\n",
    "print('v =\\t', v, '\\nb =\\t', b)"
   ]
  },
  {
   "cell_type": "code",
   "execution_count": 672,
   "metadata": {},
   "outputs": [
    {
     "data": {
      "text/plain": [
       "array([[0, 0],\n",
       "       [1, 1],\n",
       "       [2, 4],\n",
       "       [3, 9]])"
      ]
     },
     "execution_count": 672,
     "metadata": {},
     "output_type": "execute_result"
    }
   ],
   "source": [
    "np.loadtxt('sample.csv', delimiter = ',', skiprows = 1, dtype=int) "
   ]
  },
  {
   "cell_type": "code",
   "execution_count": 673,
   "metadata": {},
   "outputs": [
    {
     "name": "stdout",
     "output_type": "stream",
     "text": [
      "[ 0  3  6  9 12 15]\n",
      "Shaped Array:\n",
      " [[ 0  3  6]\n",
      " [ 9 12 15]]\n",
      "Array index 1 :\n",
      " [ 9 12 15]\n"
     ]
    }
   ],
   "source": [
    "i=np.arange(0,16,3)\n",
    "print(i)\n",
    "i.shape=(2,3)\n",
    "print('Shaped Array:\\n',i)\n",
    "print('Array index 1 :\\n',i[1])"
   ]
  },
  {
   "cell_type": "code",
   "execution_count": 674,
   "metadata": {},
   "outputs": [
    {
     "data": {
      "text/plain": [
       "array([2, 5, 8])"
      ]
     },
     "execution_count": 674,
     "metadata": {},
     "output_type": "execute_result"
    }
   ],
   "source": [
    "x = np.array([0, 1, 2, 3, 4, 5, 6, 7, 8, 9])\n",
    "x[2::3]"
   ]
  },
  {
   "cell_type": "code",
   "execution_count": 675,
   "metadata": {},
   "outputs": [
    {
     "data": {
      "text/plain": [
       "array([[[1, 2, 3]],\n",
       "\n",
       "       [[4, 5, 6]],\n",
       "\n",
       "       [[7, 8, 9]]])"
      ]
     },
     "execution_count": 675,
     "metadata": {},
     "output_type": "execute_result"
    }
   ],
   "source": [
    "y = np.array([[[1],[2],[3]], [[4],[5],[6]],[[7],[8],[9]]])\n",
    "y[1:3]\n",
    "z=y[..., 0]\n",
    "z[:,None]"
   ]
  },
  {
   "cell_type": "code",
   "execution_count": 676,
   "metadata": {},
   "outputs": [
    {
     "data": {
      "text/plain": [
       "array([[0. , 0.5, 1. , 1.5],\n",
       "       [0.5, 1. , 1.5, 2. ],\n",
       "       [1. , 1.5, 2. , 2.5],\n",
       "       [1.5, 2. , 2.5, 3. ]])"
      ]
     },
     "execution_count": 676,
     "metadata": {},
     "output_type": "execute_result"
    }
   ],
   "source": [
    "na=np.arange(0,2,0.5)\n",
    "na[:,None]+na[None,:]"
   ]
  },
  {
   "cell_type": "code",
   "execution_count": 677,
   "metadata": {},
   "outputs": [
    {
     "name": "stdout",
     "output_type": "stream",
     "text": [
      "X=  [0 1 2 3 4 5 6 7 8 9]\n",
      "Indexing on X\n",
      " [[8 8]\n",
      " [9 4]]\n",
      "van=\n",
      " [[  8   4   2   1]\n",
      " [ 64  16   4   1]\n",
      " [216  36   6   1]\n",
      " [512  64   8   1]] \n",
      "-------\n",
      "\n",
      "Indexing X and Y\n",
      " [64  1]\n",
      "Indexing X and y=1\n",
      " [ 64 216]\n",
      "Indexing only X\n",
      " [[ 64  16   4   1]\n",
      " [216  36   6   1]]\n",
      "Advance Indexing\n",
      " [[216  36]\n",
      " [512  64]]\n"
     ]
    }
   ],
   "source": [
    "print('X= ',x)\n",
    "print('Indexing on X\\n',x[np.array([[-2,-2],[-1,-6]])])\n",
    "print('van=\\n',van,'\\n-------\\n')\n",
    "print('Indexing X and Y\\n',van[np.array([1,2]),np.array([0,3])])\n",
    "print('Indexing X and y=1\\n',van[np.array([1,2]),0])\n",
    "print('Indexing only X\\n',van[np.array([1,2])])\n",
    "r1=van[np.array([2,2]),np.array([0,1])]\n",
    "r2=van[np.array([3,3]),np.array([0,1])]\n",
    "print('Advance Indexing\\n',np.array([r1,r2]))"
   ]
  },
  {
   "cell_type": "code",
   "execution_count": 678,
   "metadata": {},
   "outputs": [
    {
     "data": {
      "text/plain": [
       "array([ 1., 18.,  3.])"
      ]
     },
     "execution_count": 678,
     "metadata": {},
     "output_type": "execute_result"
    }
   ],
   "source": [
    "x = np.array([1., -2.,np.nan, 3.,np.nan, np.nan])\n",
    "y=x[~np.isnan(x)]\n",
    "y[y < 0] += 20\n",
    "y"
   ]
  },
  {
   "cell_type": "code",
   "execution_count": 679,
   "metadata": {},
   "outputs": [
    {
     "name": "stdout",
     "output_type": "stream",
     "text": [
      "van=\n",
      " [[  8   4   2   1]\n",
      " [ 64  16   4   1]\n",
      " [216  36   6   1]\n",
      " [512  64   8   1]] \n",
      "-------\n",
      "van 1st col ==== [ 4 16 36 64] \n",
      "-------\n",
      "x=\n",
      " [[ 0  1  2  3  4  5  6]\n",
      " [ 7  8  9 10 11 12 13]\n",
      " [14 15 16 17 18 19 20]\n",
      " [21 22 23 24 25 26 27]\n",
      " [28 29 30 31 32 33 34]] \n",
      "-------\n",
      "x 4th col ==== [ 4 11 18 25 32] \n",
      "-------\n",
      "b=\n",
      " [[False False False False False False False]\n",
      " [False False False False False False False]\n",
      " [False False False False False False False]\n",
      " [ True  True  True  True  True  True  True]\n",
      " [ True  True  True  True  True  True  True]] \n",
      "-------\n",
      "b 5th col ==== [False False False  True  True] \n",
      "-------\n"
     ]
    }
   ],
   "source": [
    "print('van=\\n',van,'\\n-------')\n",
    "print('van 1st col ====',van[:,1],'\\n-------')\n",
    "x = np.arange(35).reshape(5, 7)\n",
    "b = x > 20\n",
    "print('x=\\n',x,'\\n-------')\n",
    "print('x 4th col ====',x[:,4],'\\n-------')\n",
    "print('b=\\n',b,'\\n-------')\n",
    "print('b 5th col ====',b[:,5],'\\n-------')"
   ]
  },
  {
   "cell_type": "code",
   "execution_count": 691,
   "metadata": {},
   "outputs": [
    {
     "name": "stdout",
     "output_type": "stream",
     "text": [
      "Rowsome of x=  [1 5 4] \n",
      "If rowsome is <= 4\n",
      " [[0 1]\n",
      " [2 2]]\n"
     ]
    }
   ],
   "source": [
    "x = np.array([[0, 1], [4, 1], [2, 2]])\n",
    "rowsum = x.sum(-1)\n",
    "print('Rowsome of x= ',rowsum,'\\nIf rowsome is <= 4\\n',x[rowsum <= 4, :])"
   ]
  },
  {
   "cell_type": "code",
   "execution_count": 694,
   "metadata": {},
   "outputs": [
    {
     "name": "stdout",
     "output_type": "stream",
     "text": [
      "[False  True False  True]\n"
     ]
    },
    {
     "data": {
      "text/plain": [
       "array([[ 3,  4],\n",
       "       [ 9, 10]])"
      ]
     },
     "execution_count": 694,
     "metadata": {},
     "output_type": "execute_result"
    }
   ],
   "source": [
    "ix = np.array([[ 0,  1,  2],\n",
    "              [ 3,  4,  5],\n",
    "              [ 6,  7,  8],\n",
    "              [ 9, 10, 11]])\n",
    "rowx=(ix.sum(-1) % 2) == 0\n",
    "print(rowx)\n",
    "columns = [0, 1]\n",
    "x[np.ix_(rowx, columns)]"
   ]
  }
 ],
 "metadata": {
  "kernelspec": {
   "display_name": "Python 3.10.8 ('venv': venv)",
   "language": "python",
   "name": "python3"
  },
  "language_info": {
   "codemirror_mode": {
    "name": "ipython",
    "version": 3
   },
   "file_extension": ".py",
   "mimetype": "text/x-python",
   "name": "python",
   "nbconvert_exporter": "python",
   "pygments_lexer": "ipython3",
   "version": "3.10.8"
  },
  "orig_nbformat": 4,
  "vscode": {
   "interpreter": {
    "hash": "ad96e3fe502935c8f18fdfce24e3e6e384d4547b0dfadd7d7cf9ca24a95f644c"
   }
  }
 },
 "nbformat": 4,
 "nbformat_minor": 2
}
